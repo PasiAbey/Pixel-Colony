{
 "cells": [
  {
   "cell_type": "code",
   "execution_count": 1,
   "id": "79af83c4",
   "metadata": {},
   "outputs": [],
   "source": [
    "import cv2\n",
    "import numpy as np\n",
    "\n",
    "# Load the full image\n",
    "full_image = cv2.imread('1.jpg')\n",
    "\n",
    "\n",
    "new_width = 600\n",
    "new_height = 1000\n",
    "\n",
    "# Resize the image\n",
    "resized_image = cv2.resize(full_image, (int(new_width), int(new_height)))\n",
    "\n",
    "# Check if the image was loaded successfully\n",
    "if resized_image is None:\n",
    "    print(\"Error: Unable to load the image. Please check the file path and format.\")\n",
    "else:\n",
    "        \n",
    "    # Define the coordinates for the cropped region (from top to bottom)\n",
    "    x1 =5\n",
    "    x2 = 590\n",
    "    y1 = 80\n",
    "    y2 = 545\n",
    "   \n",
    "    # Perform the crop\n",
    "cropped_image = resized_image[y1:y2, x1:x2]\n",
    "cv2.imwrite('cropped_image_1.jpg', cropped_image)\n",
    "cv2.imshow('Cropped Image', cropped_image)\n",
    "cv2.waitKey(0)\n",
    "cv2.destroyAllWindows()"
   ]
  },
  {
   "cell_type": "code",
   "execution_count": null,
   "id": "78c72093",
   "metadata": {},
   "outputs": [],
   "source": []
  }
 ],
 "metadata": {
  "kernelspec": {
   "display_name": "Python 3 (ipykernel)",
   "language": "python",
   "name": "python3"
  },
  "language_info": {
   "codemirror_mode": {
    "name": "ipython",
    "version": 3
   },
   "file_extension": ".py",
   "mimetype": "text/x-python",
   "name": "python",
   "nbconvert_exporter": "python",
   "pygments_lexer": "ipython3",
   "version": "3.7.16"
  }
 },
 "nbformat": 4,
 "nbformat_minor": 5
}
